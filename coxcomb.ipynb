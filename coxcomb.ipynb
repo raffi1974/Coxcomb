{
 "cells": [
  {
   "cell_type": "code",
   "execution_count": 32,
   "metadata": {},
   "outputs": [],
   "source": [
    "import pandas as pd\n",
    "import numpy as np\n",
    "import os\n",
    "import json\n",
    "\n",
    "pd.set_option('display.max_columns', 500)"
   ]
  },
  {
   "cell_type": "code",
   "execution_count": 36,
   "metadata": {},
   "outputs": [
    {
     "data": {
      "text/html": [
       "<div>\n",
       "<style scoped>\n",
       "    .dataframe tbody tr th:only-of-type {\n",
       "        vertical-align: middle;\n",
       "    }\n",
       "\n",
       "    .dataframe tbody tr th {\n",
       "        vertical-align: top;\n",
       "    }\n",
       "\n",
       "    .dataframe thead th {\n",
       "        text-align: right;\n",
       "    }\n",
       "</style>\n",
       "<table border=\"1\" class=\"dataframe\">\n",
       "  <thead>\n",
       "    <tr style=\"text-align: right;\">\n",
       "      <th></th>\n",
       "      <th>Goal_Num</th>\n",
       "      <th>dashboard_target</th>\n",
       "      <th>snapshot_count</th>\n",
       "      <th>proxy_count</th>\n",
       "      <th>mergid</th>\n",
       "      <th>CountryGroup</th>\n",
       "      <th>g_order</th>\n",
       "      <th>r_order</th>\n",
       "      <th>Goal</th>\n",
       "      <th>Target_number</th>\n",
       "      <th>Target_name_long</th>\n",
       "      <th>value</th>\n",
       "      <th>color</th>\n",
       "      <th>order</th>\n",
       "      <th>year</th>\n",
       "      <th>snapshot_target</th>\n",
       "    </tr>\n",
       "  </thead>\n",
       "  <tbody>\n",
       "    <tr>\n",
       "      <th>0</th>\n",
       "      <td>1</td>\n",
       "      <td>0.0</td>\n",
       "      <td>1</td>\n",
       "      <td>0</td>\n",
       "      <td>1.1_Algeria</td>\n",
       "      <td>Algeria</td>\n",
       "      <td>6</td>\n",
       "      <td>1</td>\n",
       "      <td>1</td>\n",
       "      <td>1.1</td>\n",
       "      <td>Extreme poverty</td>\n",
       "      <td>0.0</td>\n",
       "      <td>1-Green</td>\n",
       "      <td>1</td>\n",
       "      <td>2015</td>\n",
       "      <td>0.0</td>\n",
       "    </tr>\n",
       "  </tbody>\n",
       "</table>\n",
       "</div>"
      ],
      "text/plain": [
       "   Goal_Num  dashboard_target  snapshot_count  proxy_count       mergid  \\\n",
       "0         1               0.0               1            0  1.1_Algeria   \n",
       "\n",
       "  CountryGroup  g_order  r_order  Goal Target_number Target_name_long  value  \\\n",
       "0      Algeria        6        1     1           1.1  Extreme poverty    0.0   \n",
       "\n",
       "     color  order  year  snapshot_target  \n",
       "0  1-Green      1  2015              0.0  "
      ]
     },
     "execution_count": 36,
     "metadata": {},
     "output_type": "execute_result"
    }
   ],
   "source": [
    "file='2.Indices_Target.csv'\n",
    "df=pd.read_csv(f'C:/Users/511232/Desktop/Scorecard_coxcomb/{file}')\n",
    "df.head(1)\n"
   ]
  },
  {
   "cell_type": "code",
   "execution_count": 54,
   "metadata": {},
   "outputs": [],
   "source": [
    "'''\n",
    "-read in the 2.Indices_Target.csv file\n",
    "-filter on the NA-s in the snapshot_target column\n",
    "-groupby countries and get the unique target numbers and write to a json file\n",
    "'''\n",
    "#filter out the dataframe where snapshot_target is NA\n",
    "df_na=df[df['snapshot_target'].isna()].copy()\n",
    "\n",
    "#groupby coutries adn get the all the unique targets per country and put it in a dictionary\n",
    "country_target_NA_json=df_na.groupby(['CountryGroup']).apply(lambda x: set(x['Target_number'])).to_json()\n",
    "\n",
    "#write to a josn file\n",
    "with open('country_target.json', 'w') as outfile:\n",
    "    outfile.write(country_target_NA_json)"
   ]
  },
  {
   "cell_type": "code",
   "execution_count": 52,
   "metadata": {},
   "outputs": [],
   "source": [
    "'''\n",
    "Code\tColor\n",
    "0\t    Grey\n",
    "1\t    Red\n",
    "2\t    Yellow\n",
    "3\t    Green\n",
    "\n",
    "-read in the json file and the scorecard.xlsx file\n",
    "-for each of the country/target, filter color scheme=0 & Gap=blank\n",
    "-loop over the countries and the unique target number from the json file, and average the \"trend\" column\n",
    "-standardize the result of the average to be between [-10;+10]\n",
    "formula=N= -10 + [(A+100)/10]\n",
    "\n",
    "-generate coxcomb color using the following benchmarks:\n",
    "if N is negative --> red, takes the value of 1\n",
    "if N is postive but less or equal to 5.33 --> yellow, takes the value of 2\n",
    "if N is greater than 5.33--> green, takes the value of 3\"\n",
    "\n",
    "'''\n",
    "\n",
    "#read in the json file\n",
    "with open('country_target.json', 'r') as outfile:\n",
    "    j=json.load(outfile)"
   ]
  },
  {
   "cell_type": "code",
   "execution_count": null,
   "metadata": {},
   "outputs": [],
   "source": []
  },
  {
   "cell_type": "code",
   "execution_count": null,
   "metadata": {},
   "outputs": [],
   "source": []
  }
 ],
 "metadata": {
  "kernelspec": {
   "display_name": "coxcomb",
   "language": "python",
   "name": "python3"
  },
  "language_info": {
   "codemirror_mode": {
    "name": "ipython",
    "version": 3
   },
   "file_extension": ".py",
   "mimetype": "text/x-python",
   "name": "python",
   "nbconvert_exporter": "python",
   "pygments_lexer": "ipython3",
   "version": "3.9.5"
  },
  "orig_nbformat": 4
 },
 "nbformat": 4,
 "nbformat_minor": 2
}
