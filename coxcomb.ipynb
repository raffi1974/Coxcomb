{
 "cells": [
  {
   "cell_type": "code",
   "execution_count": 32,
   "metadata": {},
   "outputs": [],
   "source": [
    "import pandas as pd\n",
    "import numpy as np\n",
    "import os\n",
    "import json\n",
    "\n",
    "pd.set_option('display.max_columns', 500)"
   ]
  },
  {
   "cell_type": "code",
   "execution_count": 153,
   "metadata": {},
   "outputs": [],
   "source": [
    "'''\n",
    "-read in the 2.Indices_Target.csv file\n",
    "-filter on the NA-s in the snapshot_target column\n",
    "-get the unique target nums\n",
    "'''\n",
    "\n",
    "filename='2.Indices_Target.csv'\n",
    "df=pd.read_csv(f'C:/Users/511232/Desktop/Scorecard_coxcomb/{filename}', dtype='str')\n",
    "\n",
    "#filter out the dataframe where snapshot_target is NA\n",
    "df_na=df[df['snapshot_target'].isna()].copy()\n",
    "target_num_NA=set(df_na['Target_number'])"
   ]
  },
  {
   "cell_type": "code",
   "execution_count": 157,
   "metadata": {},
   "outputs": [],
   "source": [
    "'''\n",
    "Code\tColor\n",
    "0\t    Grey\n",
    "1\t    Red\n",
    "2\t    Yellow\n",
    "3\t    Green\n",
    "\n",
    "-the scorecard.xlsx file, filter on color ('Color Scheme'=0) & ('Gap'=blank) & ('target' in target_num_NA)\n",
    "-groupby ['geoareaname', 'target'] and apply a function that will take the average of 'Trend'\n",
    "-and standardize the result of the average to be between [-10;+10]\n",
    "formula=N= -10 + [(A+100)/10]\n",
    "\n",
    "-generate coxcomb color using the following benchmarks:\n",
    "if N is negative --> red, takes the value of 1\n",
    "if N is postive but less or equal to 5.33 --> yellow, takes the value of 2\n",
    "if N is greater than 5.33--> green, takes the value of 3\"\n",
    "\n",
    "'''\n",
    "\n",
    "filename='scorecard.xlsx'\n",
    "#read in the scorecard.xlsx\n",
    "df=pd.read_excel('C:/Users/511232/Desktop/Scorecard_coxcomb/scorecard.xlsx', dtype=str)\n",
    "df['Trend'] = df['Trend'].astype(float)\n",
    "\n",
    "#filter color scheme=0 & Gap=blank\n",
    "df_filtered=df[(df['Color Scheme']=='0') & (df['Gap'].isna()) & (df['target'].isin(target_num_NA))].copy()\n",
    "\n",
    "\n",
    "def process(d):\n",
    "    '''will calculate average trend and standardize the value'''\n",
    "    trend_avg=d['Trend'].mean()\n",
    "    trend_avg_standardized=-10+((trend_avg+100)/10)\n",
    "    return(trend_avg_standardized)\n",
    "\n",
    "#apply the function on the df_filtered\n",
    "standardized_df=pd.DataFrame(df_filtered.groupby(['geoareaname','target'],group_keys=False).apply(process))\n",
    "standardized_df.reset_index(drop=False, inplace=True)\n",
    "standardized_df.columns=['geoareaname','target','standardized_value']\n",
    "\n"
   ]
  },
  {
   "cell_type": "code",
   "execution_count": null,
   "metadata": {},
   "outputs": [],
   "source": []
  },
  {
   "cell_type": "code",
   "execution_count": 112,
   "metadata": {},
   "outputs": [],
   "source": [
    "#merge with the original file scorecard.xlsx\n",
    "result=pd.merge(df,standardized_df, how='left', on=['geoareaname','target'])\n",
    "result.to_excel('processed_file.xlsx',index=False)"
   ]
  },
  {
   "cell_type": "code",
   "execution_count": 119,
   "metadata": {},
   "outputs": [],
   "source": [
    "df=pd.read_excel('C:/Users/511232/Desktop/Scorecard_coxcomb/scorecard.xlsx')\n"
   ]
  },
  {
   "cell_type": "code",
   "execution_count": null,
   "metadata": {},
   "outputs": [],
   "source": []
  },
  {
   "cell_type": "code",
   "execution_count": null,
   "metadata": {},
   "outputs": [],
   "source": []
  },
  {
   "cell_type": "code",
   "execution_count": null,
   "metadata": {},
   "outputs": [],
   "source": []
  }
 ],
 "metadata": {
  "kernelspec": {
   "display_name": "coxcomb",
   "language": "python",
   "name": "python3"
  },
  "language_info": {
   "codemirror_mode": {
    "name": "ipython",
    "version": 3
   },
   "file_extension": ".py",
   "mimetype": "text/x-python",
   "name": "python",
   "nbconvert_exporter": "python",
   "pygments_lexer": "ipython3",
   "version": "3.9.5"
  },
  "orig_nbformat": 4
 },
 "nbformat": 4,
 "nbformat_minor": 2
}
